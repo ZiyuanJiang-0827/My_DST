{
 "cells": [
  {
   "cell_type": "code",
   "execution_count": null,
   "metadata": {},
   "outputs": [],
   "source": [
    "#Data Pre-precessing\n",
    "\n",
    "import numpy as np\n",
    "import pandas as pd\n",
    "\n",
    "source_datafile = '/Users/ziyuanjiang/dstoolbox/datasetkdd/testdata'\n",
    "handled_datafile = '/Users/ziyuanjiang/dstoolbox/datasetkdd/testdata'\n",
    "\n",
    "file_data = open(handled_datafile,'w',newline='')\n",
    "with open(source_datafile,'r') as data_source:\n",
    "    \n",
    "    file_data.close()\n"
   ]
  }
 ],
 "metadata": {
  "kernelspec": {
   "display_name": "Python 3.9.13 ('base')",
   "language": "python",
   "name": "python3"
  },
  "language_info": {
   "codemirror_mode": {
    "name": "ipython",
    "version": 3
   },
   "file_extension": ".py",
   "mimetype": "text/x-python",
   "name": "python",
   "nbconvert_exporter": "python",
   "pygments_lexer": "ipython3",
   "version": "3.9.13"
  },
  "orig_nbformat": 4,
  "vscode": {
   "interpreter": {
    "hash": "2eec127254b684b54ce2ae14a40925d658715d5dcaa225ef3ad098efa1e72b1d"
   }
  }
 },
 "nbformat": 4,
 "nbformat_minor": 2
}
